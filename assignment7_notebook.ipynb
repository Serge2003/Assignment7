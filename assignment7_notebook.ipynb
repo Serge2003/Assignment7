{
 "cells": [
  {
   "cell_type": "markdown",
   "id": "d6835491",
   "metadata": {},
   "source": [
    "## Importing Libraries\n",
    "In this section I will be installing all the libraries necessary to scrape websites of data and make graphs out of that data"
   ]
  },
  {
   "cell_type": "code",
   "execution_count": 7,
   "id": "af0185e7",
   "metadata": {},
   "outputs": [],
   "source": [
    "import requests\n",
    "from bs4 import BeautifulSoup\n",
    "import pandas as pd\n",
    "import matplotlib.pyplot as plt"
   ]
  },
  {
   "cell_type": "markdown",
   "id": "2e5dabce",
   "metadata": {},
   "source": [
    "# Pulling data\n",
    "In this section I decided that I will be scraping data from the youtube trending page to analyze the top 50 most popular videos currently. In regards to the assignment, my data points will be the 50 most popular youtube videos currently.The four attributes that I chose were the titles of the videos, the views, the likes and the dislikes of each video.\n"
   ]
  },
  {
   "cell_type": "code",
   "execution_count": null,
   "id": "897495d3",
   "metadata": {},
   "outputs": [],
   "source": [
    "# Read webpage and parse it with beautiful soup\n",
    "opened_webpage = requests.get(\"https://www.youtube.com/feed/trending\")\n",
    "print (\"Webpage opened successfully...\")\n",
    "\n",
    "bs = BeautifulSoup(opened_webpage, 'html.parser')\n",
    "\n",
    "print (\"Webpage loaded and parsed successfully...\")\n",
    "\n",
    "# Make lists in correspondence with the four chosen attributes\n",
    "titles = []\n",
    "views = []\n",
    "likes = []\n",
    "dislikes = []"
   ]
  }
 ],
 "metadata": {
  "kernelspec": {
   "display_name": "Python 3 (ipykernel)",
   "language": "python",
   "name": "python3"
  },
  "language_info": {
   "codemirror_mode": {
    "name": "ipython",
    "version": 3
   },
   "file_extension": ".py",
   "mimetype": "text/x-python",
   "name": "python",
   "nbconvert_exporter": "python",
   "pygments_lexer": "ipython3",
   "version": "3.9.13"
  }
 },
 "nbformat": 4,
 "nbformat_minor": 5
}
