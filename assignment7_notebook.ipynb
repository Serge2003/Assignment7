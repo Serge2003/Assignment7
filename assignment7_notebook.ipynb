{
 "cells": [
  {
   "cell_type": "markdown",
   "id": "d6835491",
   "metadata": {},
   "source": [
    "## Importing Libraries\n",
    "In this section I will be installing all the libraries nececcary to scrape websites of data and make graphs out of that data"
   ]
  },
  {
   "cell_type": "code",
   "execution_count": 6,
   "id": "af0185e7",
   "metadata": {},
   "outputs": [],
   "source": [
    "from bs4 import BeautifulSoup\n",
    "import pandas as pd\n",
    "import matplotlib.pyplot as plt"
   ]
  },
  {
   "cell_type": "code",
   "execution_count": null,
   "id": "703a53d7",
   "metadata": {},
   "outputs": [],
   "source": []
  }
 ],
 "metadata": {
  "kernelspec": {
   "display_name": "Python 3 (ipykernel)",
   "language": "python",
   "name": "python3"
  },
  "language_info": {
   "codemirror_mode": {
    "name": "ipython",
    "version": 3
   },
   "file_extension": ".py",
   "mimetype": "text/x-python",
   "name": "python",
   "nbconvert_exporter": "python",
   "pygments_lexer": "ipython3",
   "version": "3.9.13"
  }
 },
 "nbformat": 4,
 "nbformat_minor": 5
}
